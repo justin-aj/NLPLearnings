{
 "cells": [
  {
   "cell_type": "code",
   "execution_count": 2,
   "id": "87b836fb-cf68-4b1d-8f5a-b69d27eb32d3",
   "metadata": {},
   "outputs": [
    {
     "data": {
      "text/plain": [
       "array([[0.47058824, 0.5294118 , 0.54901963],\n",
       "       [0.5882353 , 0.627451  , 0.6666667 ],\n",
       "       [0.7058824 , 0.74509805, 0.78431374]], dtype=float32)"
      ]
     },
     "execution_count": 2,
     "metadata": {},
     "output_type": "execute_result"
    }
   ],
   "source": [
    "import numpy as np\n",
    "\n",
    "# Example: A simple 3x3 grayscale image (values range from 0 to 255)\n",
    "original_image = np.array([\n",
    "    [120, 135, 140],\n",
    "    [150, 160, 170],\n",
    "    [180, 190, 200]\n",
    "], dtype=np.float32)\n",
    "\n",
    "# Normalize the image to range [0, 1] for simplicity\n",
    "x_0 = original_image / 255.0\n",
    "\n",
    "x_0"
   ]
  },
  {
   "cell_type": "code",
   "execution_count": 3,
   "id": "a6a155fc-5c94-46cc-982f-7f84561732a2",
   "metadata": {},
   "outputs": [],
   "source": [
    "# Parameters for the diffusion process\n",
    "T = 5  # Total diffusion steps\n",
    "beta = np.linspace(0.01, 0.05, T)  # Noise schedule\n",
    "alpha = 1 - beta  # Alpha values\n",
    "alpha_bar = np.cumprod(alpha)  # Cumulative product of alpha"
   ]
  },
  {
   "cell_type": "code",
   "execution_count": 6,
   "id": "d081de2f-1dce-4a41-8153-346ebdfeb101",
   "metadata": {},
   "outputs": [
    {
     "data": {
      "text/plain": [
       "(array([0.01, 0.02, 0.03, 0.04, 0.05]),\n",
       " array([0.99, 0.98, 0.97, 0.96, 0.95]),\n",
       " array([0.99      , 0.9702    , 0.941094  , 0.90345024, 0.85827773]))"
      ]
     },
     "execution_count": 6,
     "metadata": {},
     "output_type": "execute_result"
    }
   ],
   "source": [
    "beta, alpha, alpha_bar"
   ]
  },
  {
   "cell_type": "code",
   "execution_count": 9,
   "id": "aeb749f6-ef96-4843-8d5d-af860fc3a722",
   "metadata": {},
   "outputs": [
    {
     "name": "stdout",
     "output_type": "stream",
     "text": [
      "[array([[0.47058824, 0.5294118 , 0.54901963],\n",
      "       [0.5882353 , 0.627451  , 0.6666667 ],\n",
      "       [0.7058824 , 0.74509805, 0.78431374]], dtype=float32), array([[0.68296214, 0.56073273, 0.50713195],\n",
      "       [0.58518218, 0.6602204 , 0.66971037],\n",
      "       [0.60718026, 0.66761336, 0.77230533]]), array([[0.37861301, 0.64234659, 0.80141181],\n",
      "       [0.51872403, 0.36642085, 0.54318953],\n",
      "       [0.72752115, 0.80473619, 0.67067174]]), array([[0.64997351, 0.21230692, 0.2438886 ],\n",
      "       [0.42027929, 0.61388054, 1.11743167],\n",
      "       [0.98093237, 0.83551109, 0.07229484]]), array([[0.3121935 , 0.40092992, 0.57592763],\n",
      "       [0.52434871, 0.38306657, 0.77995134],\n",
      "       [0.32587409, 1.12719767, 0.45698493]]), array([[1.14061477, 0.64394941, 0.83882275],\n",
      "       [1.1755926 , 0.96745499, 0.69434355],\n",
      "       [0.56438157, 0.56065071, 0.74635056]])]\n"
     ]
    }
   ],
   "source": [
    "# Simulate the forward process to add noise step by step\n",
    "noisy_images = [x_0]  # Store noisy images at each step\n",
    "for t in range(T):\n",
    "    noise = np.random.normal(0, 1, x_0.shape)  # Gaussian noise\n",
    "    x_t = np.sqrt(alpha_bar[t]) * x_0 + np.sqrt(1 - alpha_bar[t]) * noise\n",
    "    noisy_images.append(x_t)\n",
    "\n",
    "print(noisy_images)"
   ]
  },
  {
   "cell_type": "code",
   "execution_count": 16,
   "id": "d2dd686e-83e7-44d6-900d-b40c2dd6d1e3",
   "metadata": {},
   "outputs": [
    {
     "data": {
      "text/plain": [
       "(array([[120., 135., 140.],\n",
       "        [150., 160., 170.],\n",
       "        [180., 190., 200.]], dtype=float32),\n",
       " array([[0.3121935 , 0.40092992, 0.57592763],\n",
       "        [0.52434871, 0.38306657, 0.77995134],\n",
       "        [0.32587409, 1.12719767, 0.45698493]]),\n",
       " array([[156.36442002,  62.37752183, 117.55792342],\n",
       "        [122.08466102, 148.22025955, 244.40168165],\n",
       "        [155.68335883, 226.20426891,  42.77584885]]))"
      ]
     },
     "execution_count": 16,
     "metadata": {},
     "output_type": "execute_result"
    }
   ],
   "source": [
    "# Choose one noisy image (e.g., from step t=3) for reverse process demonstration\n",
    "t = 4\n",
    "x_t = noisy_images[t]\n",
    "predicted_noise = np.random.normal(0, 1, x_t.shape)  # Simulated predicted noise - Trained NN, often U-Net\n",
    "\n",
    "# Reverse process: Remove noise step by step\n",
    "sigma_t = np.sqrt(beta[t])  # Small noise factor for diversity\n",
    "x_t_minus_1 = (\n",
    "    (1 / np.sqrt(alpha[t])) * (x_t - (1 - alpha[t]) / np.sqrt(1 - alpha_bar[t]) * predicted_noise)\n",
    "    + sigma_t * np.random.normal(0, 1, x_t.shape)\n",
    ")\n",
    "\n",
    "# Display the results\n",
    "original_image, noisy_images[t], x_t_minus_1 * 255  # Reverse step scaled back to original range"
   ]
  },
  {
   "cell_type": "code",
   "execution_count": 20,
   "id": "56d96afc-d581-41b0-9cac-f65cd5e21f82",
   "metadata": {},
   "outputs": [
    {
     "name": "stdout",
     "output_type": "stream",
     "text": [
      "Loss before update: 1.2785\n",
      "Loss after update: 1.2662\n"
     ]
    }
   ],
   "source": [
    "import numpy as np\n",
    "\n",
    "# Simulate a neural network's weight matrix (3x3 for simplicity)\n",
    "weights = np.random.randn(3, 3)  # Initial weights\n",
    "\n",
    "# Learning rate for gradient descent\n",
    "learning_rate = 0.01\n",
    "\n",
    "# Simulate the true image (normalized 3x3 image)\n",
    "x_0 = np.array([\n",
    "    [0.47, 0.53, 0.55],\n",
    "    [0.59, 0.63, 0.67],\n",
    "    [0.71, 0.75, 0.78]\n",
    "])\n",
    "\n",
    "# Simulate noise added to the image in forward diffusion\n",
    "true_noise = np.random.normal(0, 1, x_0.shape)  # True noise\n",
    "\n",
    "# Simulate the noisy image at time step t\n",
    "t = 3\n",
    "alpha_bar_t = 0.5  # Cumulative product of alpha at t\n",
    "x_t = np.sqrt(alpha_bar_t) * x_0 + np.sqrt(1 - alpha_bar_t) * true_noise\n",
    "\n",
    "# Simulate the neural network's predicted noise (epsilon_theta)\n",
    "def predict_noise(weights, x_t):\n",
    "    return np.dot(x_t, weights)  # Simplified linear model for noise prediction - This is the trained NN in practice\n",
    "\n",
    "predicted_noise = predict_noise(weights, x_t)\n",
    "\n",
    "# Calculate the loss (MSE)\n",
    "loss = np.mean((true_noise - predicted_noise) ** 2)\n",
    "print(f\"Loss before update: {loss:.4f}\")\n",
    "\n",
    "# Calculate gradients of the loss with respect to weights\n",
    "# Gradient = (2/N) * (predicted_noise - true_noise) * x_t\n",
    "gradients = (2 / x_t.size) * np.dot(x_t.T, (predicted_noise - true_noise))\n",
    "\n",
    "# Update weights using gradient descent\n",
    "weights -= learning_rate * gradients\n",
    "\n",
    "# Predict noise with updated weights\n",
    "predicted_noise_updated = predict_noise(weights, x_t)\n",
    "\n",
    "# Calculate the new loss after weights are updated\n",
    "new_loss = np.mean((true_noise - predicted_noise_updated) ** 2)\n",
    "print(f\"Loss after update: {new_loss:.4f}\")"
   ]
  },
  {
   "cell_type": "code",
   "execution_count": null,
   "id": "fba5e1d4-a376-4f23-9c03-b9f88e6bed3a",
   "metadata": {},
   "outputs": [],
   "source": []
  }
 ],
 "metadata": {
  "kernelspec": {
   "display_name": "Python 3 (ipykernel)",
   "language": "python",
   "name": "python3"
  },
  "language_info": {
   "codemirror_mode": {
    "name": "ipython",
    "version": 3
   },
   "file_extension": ".py",
   "mimetype": "text/x-python",
   "name": "python",
   "nbconvert_exporter": "python",
   "pygments_lexer": "ipython3",
   "version": "3.10.0"
  }
 },
 "nbformat": 4,
 "nbformat_minor": 5
}
